{
  "nbformat": 4,
  "nbformat_minor": 0,
  "metadata": {
    "colab": {
      "provenance": [],
      "toc_visible": true,
      "include_colab_link": true
    },
    "kernelspec": {
      "name": "python3",
      "display_name": "Python 3"
    },
    "language_info": {
      "name": "python"
    }
  },
  "cells": [
    {
      "cell_type": "markdown",
      "metadata": {
        "id": "view-in-github",
        "colab_type": "text"
      },
      "source": [
        "<a href=\"https://colab.research.google.com/github/JakeSparrow1/project_team_20/blob/main/Business_Understanding.ipynb\" target=\"_parent\"><img src=\"https://colab.research.google.com/assets/colab-badge.svg\" alt=\"Open In Colab\"/></a>"
      ]
    },
    {
      "cell_type": "code",
      "execution_count": null,
      "metadata": {
        "id": "neYtLrkcPI9C"
      },
      "outputs": [],
      "source": []
    },
    {
      "cell_type": "markdown",
      "source": [
        "#1. BUSINESS UNDERSTANDING\n",
        "\n",
        "# problem statement\n",
        "The University of Zambia wants to quickly identify research authored by its staff in the institutional repository. Manually verifying affiliations is slow and error-prone. We aim to build a predictive model that classifies whether an ETD document was authored by UNZA staff, based on metadata and content.\n",
        "\n",
        "### Business Objectives\n",
        "\n",
        "**What does \"success\" look like from a practical perspective?**\n",
        "\n",
        "**Primary Success Indicators:**\n",
        "- **Automated Classification**: System can process references faster than manual review\n",
        "- **Research Visibility**: UNZA can quickly identify and showcase internal research citations  \n",
        "- **Administrative Efficiency**: Reduce reference review time from days to hours\n",
        "- **Decision Support**: Enable evidence-based faculty evaluation and research planning\n",
        "\n",
        "**Practical Success Metrics:**\n",
        "- **Time Savings**: 80% reduction in manual reference verification time\n",
        "- **Processing Capability**: Handle 100-200 ETDs for comprehensive analysis\n",
        "- **Accuracy**: >80% classification accuracy for administrative decision-making\n",
        "- **User Adoption**: Research staff can operate system with minimal training\n",
        "\n",
        "**Intial Project Success Criteria**  \n",
        "- **Accuracy** : The model should achieve at least 80% accuracy and F1-score ≥ 0.80 on a held-out test dataset when classifying ETDs as authored by UNZA staff or not.\n",
        "  \n",
        "- **Efficiency** : The model should reduce manual affiliation verification time by at least 80% compared to the current process.  \n",
        "- **Processing Capability** : The model should be able to process at least 50 ETDs per hour on available university hardware or cloud resources.\n",
        "\n",
        "\n"
      ],
      "metadata": {
        "id": "cyN52PHIPuGp"
      }
    }
  ]
}